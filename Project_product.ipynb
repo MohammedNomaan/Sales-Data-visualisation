{
 "cells": [
  {
   "cell_type": "code",
   "execution_count": 73,
   "id": "68f5bdee-0d96-4e6c-958d-9d4fedc602e3",
   "metadata": {},
   "outputs": [],
   "source": [
    "import pandas as pd"
   ]
  },
  {
   "cell_type": "code",
   "execution_count": 74,
   "id": "ba613505-0854-434a-8d52-6d70aa129616",
   "metadata": {},
   "outputs": [],
   "source": [
    "d = pd.read_csv(\"C:/Users/nomaan mohammed/Downloads/Product.csv\")"
   ]
  },
  {
   "cell_type": "code",
   "execution_count": 75,
   "id": "36aae3b6-a592-4806-bca8-f055ae2f58bd",
   "metadata": {},
   "outputs": [
    {
     "data": {
      "text/html": [
       "<div>\n",
       "<style scoped>\n",
       "    .dataframe tbody tr th:only-of-type {\n",
       "        vertical-align: middle;\n",
       "    }\n",
       "\n",
       "    .dataframe tbody tr th {\n",
       "        vertical-align: top;\n",
       "    }\n",
       "\n",
       "    .dataframe thead th {\n",
       "        text-align: right;\n",
       "    }\n",
       "</style>\n",
       "<table border=\"1\" class=\"dataframe\">\n",
       "  <thead>\n",
       "    <tr style=\"text-align: right;\">\n",
       "      <th></th>\n",
       "      <th>Date</th>\n",
       "      <th>Product</th>\n",
       "      <th>Region</th>\n",
       "      <th>Sales</th>\n",
       "      <th>Quantity</th>\n",
       "      <th>Discount</th>\n",
       "    </tr>\n",
       "  </thead>\n",
       "  <tbody>\n",
       "    <tr>\n",
       "      <th>0</th>\n",
       "      <td>2024-01-01</td>\n",
       "      <td>Product A</td>\n",
       "      <td>North</td>\n",
       "      <td>1000</td>\n",
       "      <td>10</td>\n",
       "      <td>0.10</td>\n",
       "    </tr>\n",
       "    <tr>\n",
       "      <th>1</th>\n",
       "      <td>2024-01-01</td>\n",
       "      <td>Product B</td>\n",
       "      <td>South</td>\n",
       "      <td>850</td>\n",
       "      <td>15</td>\n",
       "      <td>0.05</td>\n",
       "    </tr>\n",
       "    <tr>\n",
       "      <th>2</th>\n",
       "      <td>2024-01-01</td>\n",
       "      <td>Product C</td>\n",
       "      <td>East</td>\n",
       "      <td>920</td>\n",
       "      <td>12</td>\n",
       "      <td>0.08</td>\n",
       "    </tr>\n",
       "    <tr>\n",
       "      <th>3</th>\n",
       "      <td>2024-01-02</td>\n",
       "      <td>Product A</td>\n",
       "      <td>West</td>\n",
       "      <td>1100</td>\n",
       "      <td>14</td>\n",
       "      <td>0.07</td>\n",
       "    </tr>\n",
       "    <tr>\n",
       "      <th>4</th>\n",
       "      <td>2024-01-02</td>\n",
       "      <td>Product B</td>\n",
       "      <td>North</td>\n",
       "      <td>780</td>\n",
       "      <td>9</td>\n",
       "      <td>0.02</td>\n",
       "    </tr>\n",
       "    <tr>\n",
       "      <th>5</th>\n",
       "      <td>2024-01-02</td>\n",
       "      <td>Product C</td>\n",
       "      <td>South</td>\n",
       "      <td>690</td>\n",
       "      <td>8</td>\n",
       "      <td>0.03</td>\n",
       "    </tr>\n",
       "    <tr>\n",
       "      <th>6</th>\n",
       "      <td>2024-01-03</td>\n",
       "      <td>Product A</td>\n",
       "      <td>East</td>\n",
       "      <td>940</td>\n",
       "      <td>12</td>\n",
       "      <td>0.05</td>\n",
       "    </tr>\n",
       "    <tr>\n",
       "      <th>7</th>\n",
       "      <td>2024-01-03</td>\n",
       "      <td>Product B</td>\n",
       "      <td>West</td>\n",
       "      <td>1050</td>\n",
       "      <td>16</td>\n",
       "      <td>0.04</td>\n",
       "    </tr>\n",
       "    <tr>\n",
       "      <th>8</th>\n",
       "      <td>2024-01-03</td>\n",
       "      <td>Product C</td>\n",
       "      <td>North</td>\n",
       "      <td>970</td>\n",
       "      <td>11</td>\n",
       "      <td>0.06</td>\n",
       "    </tr>\n",
       "    <tr>\n",
       "      <th>9</th>\n",
       "      <td>2024-01-04</td>\n",
       "      <td>Product A</td>\n",
       "      <td>South</td>\n",
       "      <td>980</td>\n",
       "      <td>13</td>\n",
       "      <td>0.03</td>\n",
       "    </tr>\n",
       "    <tr>\n",
       "      <th>10</th>\n",
       "      <td>2024-01-04</td>\n",
       "      <td>Product B</td>\n",
       "      <td>East</td>\n",
       "      <td>890</td>\n",
       "      <td>10</td>\n",
       "      <td>0.05</td>\n",
       "    </tr>\n",
       "    <tr>\n",
       "      <th>11</th>\n",
       "      <td>2024-01-04</td>\n",
       "      <td>Product C</td>\n",
       "      <td>West</td>\n",
       "      <td>900</td>\n",
       "      <td>9</td>\n",
       "      <td>0.07</td>\n",
       "    </tr>\n",
       "  </tbody>\n",
       "</table>\n",
       "</div>"
      ],
      "text/plain": [
       "          Date    Product Region  Sales  Quantity  Discount\n",
       "0   2024-01-01  Product A  North   1000        10      0.10\n",
       "1   2024-01-01  Product B  South    850        15      0.05\n",
       "2   2024-01-01  Product C   East    920        12      0.08\n",
       "3   2024-01-02  Product A   West   1100        14      0.07\n",
       "4   2024-01-02  Product B  North    780         9      0.02\n",
       "5   2024-01-02  Product C  South    690         8      0.03\n",
       "6   2024-01-03  Product A   East    940        12      0.05\n",
       "7   2024-01-03  Product B   West   1050        16      0.04\n",
       "8   2024-01-03  Product C  North    970        11      0.06\n",
       "9   2024-01-04  Product A  South    980        13      0.03\n",
       "10  2024-01-04  Product B   East    890        10      0.05\n",
       "11  2024-01-04  Product C   West    900         9      0.07"
      ]
     },
     "execution_count": 75,
     "metadata": {},
     "output_type": "execute_result"
    }
   ],
   "source": [
    "d"
   ]
  },
  {
   "cell_type": "code",
   "execution_count": 76,
   "id": "50c5bc04-c15c-4116-b523-a27ca95b78c7",
   "metadata": {},
   "outputs": [],
   "source": [
    "df = pd.DataFrame(d)"
   ]
  },
  {
   "cell_type": "code",
   "execution_count": 77,
   "id": "46ea4a22-3e6f-4d14-98eb-b3e593db9400",
   "metadata": {},
   "outputs": [
    {
     "data": {
      "text/html": [
       "<div>\n",
       "<style scoped>\n",
       "    .dataframe tbody tr th:only-of-type {\n",
       "        vertical-align: middle;\n",
       "    }\n",
       "\n",
       "    .dataframe tbody tr th {\n",
       "        vertical-align: top;\n",
       "    }\n",
       "\n",
       "    .dataframe thead th {\n",
       "        text-align: right;\n",
       "    }\n",
       "</style>\n",
       "<table border=\"1\" class=\"dataframe\">\n",
       "  <thead>\n",
       "    <tr style=\"text-align: right;\">\n",
       "      <th></th>\n",
       "      <th>Date</th>\n",
       "      <th>Product</th>\n",
       "      <th>Region</th>\n",
       "      <th>Sales</th>\n",
       "      <th>Quantity</th>\n",
       "      <th>Discount</th>\n",
       "    </tr>\n",
       "  </thead>\n",
       "  <tbody>\n",
       "    <tr>\n",
       "      <th>0</th>\n",
       "      <td>2024-01-01</td>\n",
       "      <td>Product A</td>\n",
       "      <td>North</td>\n",
       "      <td>1000</td>\n",
       "      <td>10</td>\n",
       "      <td>0.10</td>\n",
       "    </tr>\n",
       "    <tr>\n",
       "      <th>1</th>\n",
       "      <td>2024-01-01</td>\n",
       "      <td>Product B</td>\n",
       "      <td>South</td>\n",
       "      <td>850</td>\n",
       "      <td>15</td>\n",
       "      <td>0.05</td>\n",
       "    </tr>\n",
       "    <tr>\n",
       "      <th>2</th>\n",
       "      <td>2024-01-01</td>\n",
       "      <td>Product C</td>\n",
       "      <td>East</td>\n",
       "      <td>920</td>\n",
       "      <td>12</td>\n",
       "      <td>0.08</td>\n",
       "    </tr>\n",
       "    <tr>\n",
       "      <th>3</th>\n",
       "      <td>2024-01-02</td>\n",
       "      <td>Product A</td>\n",
       "      <td>West</td>\n",
       "      <td>1100</td>\n",
       "      <td>14</td>\n",
       "      <td>0.07</td>\n",
       "    </tr>\n",
       "    <tr>\n",
       "      <th>4</th>\n",
       "      <td>2024-01-02</td>\n",
       "      <td>Product B</td>\n",
       "      <td>North</td>\n",
       "      <td>780</td>\n",
       "      <td>9</td>\n",
       "      <td>0.02</td>\n",
       "    </tr>\n",
       "    <tr>\n",
       "      <th>5</th>\n",
       "      <td>2024-01-02</td>\n",
       "      <td>Product C</td>\n",
       "      <td>South</td>\n",
       "      <td>690</td>\n",
       "      <td>8</td>\n",
       "      <td>0.03</td>\n",
       "    </tr>\n",
       "    <tr>\n",
       "      <th>6</th>\n",
       "      <td>2024-01-03</td>\n",
       "      <td>Product A</td>\n",
       "      <td>East</td>\n",
       "      <td>940</td>\n",
       "      <td>12</td>\n",
       "      <td>0.05</td>\n",
       "    </tr>\n",
       "    <tr>\n",
       "      <th>7</th>\n",
       "      <td>2024-01-03</td>\n",
       "      <td>Product B</td>\n",
       "      <td>West</td>\n",
       "      <td>1050</td>\n",
       "      <td>16</td>\n",
       "      <td>0.04</td>\n",
       "    </tr>\n",
       "    <tr>\n",
       "      <th>8</th>\n",
       "      <td>2024-01-03</td>\n",
       "      <td>Product C</td>\n",
       "      <td>North</td>\n",
       "      <td>970</td>\n",
       "      <td>11</td>\n",
       "      <td>0.06</td>\n",
       "    </tr>\n",
       "    <tr>\n",
       "      <th>9</th>\n",
       "      <td>2024-01-04</td>\n",
       "      <td>Product A</td>\n",
       "      <td>South</td>\n",
       "      <td>980</td>\n",
       "      <td>13</td>\n",
       "      <td>0.03</td>\n",
       "    </tr>\n",
       "    <tr>\n",
       "      <th>10</th>\n",
       "      <td>2024-01-04</td>\n",
       "      <td>Product B</td>\n",
       "      <td>East</td>\n",
       "      <td>890</td>\n",
       "      <td>10</td>\n",
       "      <td>0.05</td>\n",
       "    </tr>\n",
       "    <tr>\n",
       "      <th>11</th>\n",
       "      <td>2024-01-04</td>\n",
       "      <td>Product C</td>\n",
       "      <td>West</td>\n",
       "      <td>900</td>\n",
       "      <td>9</td>\n",
       "      <td>0.07</td>\n",
       "    </tr>\n",
       "  </tbody>\n",
       "</table>\n",
       "</div>"
      ],
      "text/plain": [
       "          Date    Product Region  Sales  Quantity  Discount\n",
       "0   2024-01-01  Product A  North   1000        10      0.10\n",
       "1   2024-01-01  Product B  South    850        15      0.05\n",
       "2   2024-01-01  Product C   East    920        12      0.08\n",
       "3   2024-01-02  Product A   West   1100        14      0.07\n",
       "4   2024-01-02  Product B  North    780         9      0.02\n",
       "5   2024-01-02  Product C  South    690         8      0.03\n",
       "6   2024-01-03  Product A   East    940        12      0.05\n",
       "7   2024-01-03  Product B   West   1050        16      0.04\n",
       "8   2024-01-03  Product C  North    970        11      0.06\n",
       "9   2024-01-04  Product A  South    980        13      0.03\n",
       "10  2024-01-04  Product B   East    890        10      0.05\n",
       "11  2024-01-04  Product C   West    900         9      0.07"
      ]
     },
     "execution_count": 77,
     "metadata": {},
     "output_type": "execute_result"
    }
   ],
   "source": [
    "df"
   ]
  },
  {
   "cell_type": "code",
   "execution_count": 78,
   "id": "b835dc20-69d5-4edb-b65c-b868d0e14975",
   "metadata": {},
   "outputs": [],
   "source": [
    "#Display the first 5 rows"
   ]
  },
  {
   "cell_type": "code",
   "execution_count": 79,
   "id": "3aa98e5e-6328-494a-867b-9711425170a4",
   "metadata": {
    "scrolled": true
   },
   "outputs": [
    {
     "data": {
      "text/html": [
       "<div>\n",
       "<style scoped>\n",
       "    .dataframe tbody tr th:only-of-type {\n",
       "        vertical-align: middle;\n",
       "    }\n",
       "\n",
       "    .dataframe tbody tr th {\n",
       "        vertical-align: top;\n",
       "    }\n",
       "\n",
       "    .dataframe thead th {\n",
       "        text-align: right;\n",
       "    }\n",
       "</style>\n",
       "<table border=\"1\" class=\"dataframe\">\n",
       "  <thead>\n",
       "    <tr style=\"text-align: right;\">\n",
       "      <th></th>\n",
       "      <th>Date</th>\n",
       "      <th>Product</th>\n",
       "      <th>Region</th>\n",
       "      <th>Sales</th>\n",
       "      <th>Quantity</th>\n",
       "      <th>Discount</th>\n",
       "    </tr>\n",
       "  </thead>\n",
       "  <tbody>\n",
       "    <tr>\n",
       "      <th>0</th>\n",
       "      <td>2024-01-01</td>\n",
       "      <td>Product A</td>\n",
       "      <td>North</td>\n",
       "      <td>1000</td>\n",
       "      <td>10</td>\n",
       "      <td>0.10</td>\n",
       "    </tr>\n",
       "    <tr>\n",
       "      <th>1</th>\n",
       "      <td>2024-01-01</td>\n",
       "      <td>Product B</td>\n",
       "      <td>South</td>\n",
       "      <td>850</td>\n",
       "      <td>15</td>\n",
       "      <td>0.05</td>\n",
       "    </tr>\n",
       "    <tr>\n",
       "      <th>2</th>\n",
       "      <td>2024-01-01</td>\n",
       "      <td>Product C</td>\n",
       "      <td>East</td>\n",
       "      <td>920</td>\n",
       "      <td>12</td>\n",
       "      <td>0.08</td>\n",
       "    </tr>\n",
       "    <tr>\n",
       "      <th>3</th>\n",
       "      <td>2024-01-02</td>\n",
       "      <td>Product A</td>\n",
       "      <td>West</td>\n",
       "      <td>1100</td>\n",
       "      <td>14</td>\n",
       "      <td>0.07</td>\n",
       "    </tr>\n",
       "    <tr>\n",
       "      <th>4</th>\n",
       "      <td>2024-01-02</td>\n",
       "      <td>Product B</td>\n",
       "      <td>North</td>\n",
       "      <td>780</td>\n",
       "      <td>9</td>\n",
       "      <td>0.02</td>\n",
       "    </tr>\n",
       "  </tbody>\n",
       "</table>\n",
       "</div>"
      ],
      "text/plain": [
       "         Date    Product Region  Sales  Quantity  Discount\n",
       "0  2024-01-01  Product A  North   1000        10      0.10\n",
       "1  2024-01-01  Product B  South    850        15      0.05\n",
       "2  2024-01-01  Product C   East    920        12      0.08\n",
       "3  2024-01-02  Product A   West   1100        14      0.07\n",
       "4  2024-01-02  Product B  North    780         9      0.02"
      ]
     },
     "execution_count": 79,
     "metadata": {},
     "output_type": "execute_result"
    }
   ],
   "source": [
    "df.head(5)"
   ]
  },
  {
   "cell_type": "code",
   "execution_count": 80,
   "id": "bb746321-43f4-4fd6-9201-5c2c01a4be63",
   "metadata": {
    "scrolled": true
   },
   "outputs": [],
   "source": [
    "#Basic statistics"
   ]
  },
  {
   "cell_type": "code",
   "execution_count": 157,
   "id": "1831248e-dfe4-4663-9aff-927aad53dbd7",
   "metadata": {},
   "outputs": [
    {
     "data": {
      "text/plain": [
       "(922.5, 11.583333333333334)"
      ]
     },
     "execution_count": 157,
     "metadata": {},
     "output_type": "execute_result"
    }
   ],
   "source": [
    "df[\"Sales\"].mean(), df[\"Quantity\"].mean()"
   ]
  },
  {
   "cell_type": "code",
   "execution_count": 158,
   "id": "217c26bb-decf-4b38-a3cb-3c661d82d7d8",
   "metadata": {},
   "outputs": [
    {
     "data": {
      "text/plain": [
       "(930.0, 11.5)"
      ]
     },
     "execution_count": 158,
     "metadata": {},
     "output_type": "execute_result"
    }
   ],
   "source": [
    "df[\"Sales\"].median(), df[\"Quantity\"].median()"
   ]
  },
  {
   "cell_type": "code",
   "execution_count": 159,
   "id": "b2e21ac2-684f-4147-a70d-0c012de3fd8c",
   "metadata": {},
   "outputs": [
    {
     "data": {
      "text/plain": [
       "(1100, 16)"
      ]
     },
     "execution_count": 159,
     "metadata": {},
     "output_type": "execute_result"
    }
   ],
   "source": [
    "df[\"Sales\"].max(), df[\"Quantity\"].max()"
   ]
  },
  {
   "cell_type": "code",
   "execution_count": 160,
   "id": "38b2c7fa-1c3f-4760-a0ec-65e66d72ed66",
   "metadata": {},
   "outputs": [
    {
     "data": {
      "text/plain": [
       "(690, 8)"
      ]
     },
     "execution_count": 160,
     "metadata": {},
     "output_type": "execute_result"
    }
   ],
   "source": [
    "df[\"Sales\"].min(), df[\"Quantity\"].min()"
   ]
  },
  {
   "cell_type": "code",
   "execution_count": 161,
   "id": "7ccb7a0c-f20f-40d4-9613-219b603ea34e",
   "metadata": {},
   "outputs": [
    {
     "data": {
      "text/plain": [
       "(113.14712867445081, 2.539088359425425)"
      ]
     },
     "execution_count": 161,
     "metadata": {},
     "output_type": "execute_result"
    }
   ],
   "source": [
    "df[\"Sales\"].std(), df[\"Quantity\"].std()"
   ]
  },
  {
   "cell_type": "code",
   "execution_count": 91,
   "id": "ebdb3b8b-0799-4477-bdb8-5fc4bfc309c1",
   "metadata": {},
   "outputs": [],
   "source": [
    "#Filter the data by region"
   ]
  },
  {
   "cell_type": "code",
   "execution_count": 92,
   "id": "11d06680-b735-483d-a1a3-295e76a46a97",
   "metadata": {},
   "outputs": [
    {
     "data": {
      "text/html": [
       "<div>\n",
       "<style scoped>\n",
       "    .dataframe tbody tr th:only-of-type {\n",
       "        vertical-align: middle;\n",
       "    }\n",
       "\n",
       "    .dataframe tbody tr th {\n",
       "        vertical-align: top;\n",
       "    }\n",
       "\n",
       "    .dataframe thead th {\n",
       "        text-align: right;\n",
       "    }\n",
       "</style>\n",
       "<table border=\"1\" class=\"dataframe\">\n",
       "  <thead>\n",
       "    <tr style=\"text-align: right;\">\n",
       "      <th></th>\n",
       "      <th>Date</th>\n",
       "      <th>Product</th>\n",
       "      <th>Region</th>\n",
       "      <th>Sales</th>\n",
       "      <th>Quantity</th>\n",
       "      <th>Discount</th>\n",
       "    </tr>\n",
       "  </thead>\n",
       "  <tbody>\n",
       "    <tr>\n",
       "      <th>0</th>\n",
       "      <td>2024-01-01</td>\n",
       "      <td>Product A</td>\n",
       "      <td>North</td>\n",
       "      <td>1000</td>\n",
       "      <td>10</td>\n",
       "      <td>0.10</td>\n",
       "    </tr>\n",
       "    <tr>\n",
       "      <th>4</th>\n",
       "      <td>2024-01-02</td>\n",
       "      <td>Product B</td>\n",
       "      <td>North</td>\n",
       "      <td>780</td>\n",
       "      <td>9</td>\n",
       "      <td>0.02</td>\n",
       "    </tr>\n",
       "    <tr>\n",
       "      <th>8</th>\n",
       "      <td>2024-01-03</td>\n",
       "      <td>Product C</td>\n",
       "      <td>North</td>\n",
       "      <td>970</td>\n",
       "      <td>11</td>\n",
       "      <td>0.06</td>\n",
       "    </tr>\n",
       "  </tbody>\n",
       "</table>\n",
       "</div>"
      ],
      "text/plain": [
       "         Date    Product Region  Sales  Quantity  Discount\n",
       "0  2024-01-01  Product A  North   1000        10      0.10\n",
       "4  2024-01-02  Product B  North    780         9      0.02\n",
       "8  2024-01-03  Product C  North    970        11      0.06"
      ]
     },
     "execution_count": 92,
     "metadata": {},
     "output_type": "execute_result"
    }
   ],
   "source": [
    "df[df[\"Region\"] == \"North\"]"
   ]
  },
  {
   "cell_type": "code",
   "execution_count": 93,
   "id": "57a071ae-baec-40a5-a9f5-18a3efdf6cca",
   "metadata": {},
   "outputs": [],
   "source": [
    "#Calculate total sales by product"
   ]
  },
  {
   "cell_type": "code",
   "execution_count": 94,
   "id": "116669bb-e7aa-4607-a1fa-54c0ae0840d3",
   "metadata": {},
   "outputs": [
    {
     "data": {
      "text/plain": [
       "Product\n",
       "Product A    4020\n",
       "Product B    3570\n",
       "Product C    3480\n",
       "Name: Sales, dtype: int64"
      ]
     },
     "execution_count": 94,
     "metadata": {},
     "output_type": "execute_result"
    }
   ],
   "source": [
    "df.groupby(\"Product\")[\"Sales\"].sum()"
   ]
  },
  {
   "cell_type": "code",
   "execution_count": 95,
   "id": "e2f7a2b9-e213-4b45-96f0-b0fda430baa8",
   "metadata": {},
   "outputs": [],
   "source": [
    "#Plot a bar chart of sales by product"
   ]
  },
  {
   "cell_type": "code",
   "execution_count": 96,
   "id": "409e4966-c716-4538-a373-625c6b331fb9",
   "metadata": {},
   "outputs": [],
   "source": [
    "import matplotlib.pyplot as plt"
   ]
  },
  {
   "cell_type": "code",
   "execution_count": 146,
   "id": "f2f6fa13-a28f-4f84-8c75-dd30bd787f47",
   "metadata": {},
   "outputs": [
    {
     "data": {
      "image/png": "[encoded data removed]",
      "text/plain": [
       "<Figure size 640x480 with 1 Axes>"
      ]
     },
     "metadata": {},
     "output_type": "display_data"
    }
   ],
   "source": [
    "plt.bar(df[\"Product\"], df[\"Sales\"], color = 'indigo')\n",
    "plt.show()"
   ]
  },
  {
   "cell_type": "code",
   "execution_count": 98,
   "id": "8bccdfab-14c6-46fe-b257-9a08a097023a",
   "metadata": {},
   "outputs": [],
   "source": [
    "#Show sales trend over time"
   ]
  },
  {
   "cell_type": "code",
   "execution_count": 99,
   "id": "16327038-6ae8-45e5-9c53-e5abe1c1a2fd",
   "metadata": {},
   "outputs": [],
   "source": [
    "import seaborn as sns"
   ]
  },
  {
   "cell_type": "code",
   "execution_count": 150,
   "id": "50a398c8-d1a6-4f37-8c63-42a9e800c390",
   "metadata": {},
   "outputs": [
    {
     "data": {
      "image/png": "[encoded data removed]",
      "text/plain": [
       "<Figure size 640x480 with 1 Axes>"
      ]
     },
     "metadata": {},
     "output_type": "display_data"
    }
   ],
   "source": [
    "sns.lineplot(x = df[\"Sales\"], y = df[\"Date\"], color= 'black')\n",
    "plt.show()"
   ]
  },
  {
   "cell_type": "code",
   "execution_count": 101,
   "id": "bccf8b2d-54ef-4e2f-802e-048384696dd1",
   "metadata": {},
   "outputs": [],
   "source": [
    "#Calculate the total discount by region"
   ]
  },
  {
   "cell_type": "code",
   "execution_count": 102,
   "id": "7ef3857c-a9f9-483b-8b90-61d38d98506a",
   "metadata": {},
   "outputs": [
    {
     "data": {
      "text/plain": [
       "Discount\n",
       "0.02            North\n",
       "0.03       SouthSouth\n",
       "0.04             West\n",
       "0.05    SouthEastEast\n",
       "0.06            North\n",
       "0.07         WestWest\n",
       "0.08             East\n",
       "0.10            North\n",
       "Name: Region, dtype: object"
      ]
     },
     "execution_count": 102,
     "metadata": {},
     "output_type": "execute_result"
    }
   ],
   "source": [
    "df.groupby(\"Discount\")[\"Region\"].sum()"
   ]
  },
  {
   "cell_type": "code",
   "execution_count": 103,
   "id": "ba8a3ff2-4e05-4388-b56a-728c88418a86",
   "metadata": {},
   "outputs": [],
   "source": [
    "#Calculate the average quantity sold by product"
   ]
  },
  {
   "cell_type": "code",
   "execution_count": 104,
   "id": "3f4ba955-b757-4ff0-b8fb-ce0449c165ee",
   "metadata": {},
   "outputs": [
    {
     "data": {
      "text/plain": [
       "Product\n",
       "Product A    12.25\n",
       "Product B    12.50\n",
       "Product C    10.00\n",
       "Name: Quantity, dtype: float64"
      ]
     },
     "execution_count": 104,
     "metadata": {},
     "output_type": "execute_result"
    }
   ],
   "source": [
    "df.groupby(\"Product\")[\"Quantity\"].mean()"
   ]
  },
  {
   "cell_type": "code",
   "execution_count": 105,
   "id": "bc6a3344-e202-4a9d-8808-4fd236d4ba4f",
   "metadata": {},
   "outputs": [],
   "source": [
    "#Visualize sales distribution using a histogram"
   ]
  },
  {
   "cell_type": "code",
   "execution_count": 152,
   "id": "15e5026b-ccc7-40bf-b233-b3c03e5094ea",
   "metadata": {},
   "outputs": [
    {
     "data": {
      "image/png": "[encoded data removed]",
      "text/plain": [
       "<Figure size 640x480 with 1 Axes>"
      ]
     },
     "metadata": {},
     "output_type": "display_data"
    }
   ],
   "source": [
    "plt.hist(df[\"Sales\"], edgecolor = 'black')\n",
    "plt.xlabel(\"Sales\")\n",
    "plt.ylabel(\"Frequency\")\n",
    "plt.show()"
   ]
  },
  {
   "cell_type": "code",
   "execution_count": 153,
   "id": "a69fa1ce-8e89-442d-b4c1-cd39cb86a6c9",
   "metadata": {},
   "outputs": [],
   "source": [
    "#Calculate total sales for each region"
   ]
  },
  {
   "cell_type": "code",
   "execution_count": 154,
   "id": "ede2fe40-8353-4f7d-9365-fe4a1cad1b05",
   "metadata": {},
   "outputs": [
    {
     "data": {
      "text/plain": [
       "Region\n",
       "East     2750\n",
       "North    2750\n",
       "South    2520\n",
       "West     3050\n",
       "Name: Sales, dtype: int64"
      ]
     },
     "execution_count": 154,
     "metadata": {},
     "output_type": "execute_result"
    }
   ],
   "source": [
    "df.groupby(\"Region\")[\"Sales\"].sum()"
   ]
  },
  {
   "cell_type": "code",
   "execution_count": null,
   "id": "cd780970-7a11-47dd-840e-6072793ada0e",
   "metadata": {},
   "outputs": [],
   "source": []
  }
 ],
 "metadata": {
  "kernelspec": {
   "display_name": "Python 3 (ipykernel)",
   "language": "python",
   "name": "python3"
  },
  "language_info": {
   "codemirror_mode": {
    "name": "ipython",
    "version": 3
   },
   "file_extension": ".py",
   "mimetype": "text/x-python",
   "name": "python",
   "nbconvert_exporter": "python",
   "pygments_lexer": "ipython3",
   "version": "3.12.7"
  }
 },
 "nbformat": 4,
 "nbformat_minor": 5
}

{
 "cells": [
  {
   "cell_type": "code",
   "execution_count": 1,
   "id": "34407eef-c80c-49e3-826b-672c39f76f30",
   "metadata": {},
   "outputs": [],
   "source": [
    "import pandas as pd"
   ]
  },
  {
   "cell_type": "code",
   "execution_count": 4,
   "id": "9a030085-a390-40fe-b6ec-7687ad13ddef",
   "metadata": {},
   "outputs": [],
   "source": [
    "d = pd.read_excel(\"C:/Users/nomaan mohammed/Downloads/Attrition.xlsx\")"
   ]
  },
  {
   "cell_type": "code",
   "execution_count": 5,
   "id": "c23937ab-0f58-40f8-bae5-4e2a245988ae",
   "metadata": {},
   "outputs": [
    {
     "data": {
      "text/html": [
       "<div>\n",
       "<style scoped>\n",
       "    .dataframe tbody tr th:only-of-type {\n",
       "        vertical-align: middle;\n",
       "    }\n",
       "\n",
       "    .dataframe tbody tr th {\n",
       "        vertical-align: top;\n",
       "    }\n",
       "\n",
       "    .dataframe thead th {\n",
       "        text-align: right;\n",
       "    }\n",
       "</style>\n",
       "<table border=\"1\" class=\"dataframe\">\n",
       "  <thead>\n",
       "    <tr style=\"text-align: right;\">\n",
       "      <th></th>\n",
       "      <th>EmployeeID</th>\n",
       "      <th>Age</th>\n",
       "      <th>Department</th>\n",
       "      <th>Monthly Salary</th>\n",
       "      <th>Years with Company</th>\n",
       "      <th>Job Satisfaction</th>\n",
       "      <th>Performance Rating</th>\n",
       "      <th>Attrition</th>\n",
       "    </tr>\n",
       "  </thead>\n",
       "  <tbody>\n",
       "    <tr>\n",
       "      <th>0</th>\n",
       "      <td>2001</td>\n",
       "      <td>25</td>\n",
       "      <td>IT</td>\n",
       "      <td>5000</td>\n",
       "      <td>2</td>\n",
       "      <td>3</td>\n",
       "      <td>4</td>\n",
       "      <td>Yes</td>\n",
       "    </tr>\n",
       "    <tr>\n",
       "      <th>1</th>\n",
       "      <td>2002</td>\n",
       "      <td>40</td>\n",
       "      <td>HR</td>\n",
       "      <td>7000</td>\n",
       "      <td>10</td>\n",
       "      <td>5</td>\n",
       "      <td>5</td>\n",
       "      <td>No</td>\n",
       "    </tr>\n",
       "    <tr>\n",
       "      <th>2</th>\n",
       "      <td>2003</td>\n",
       "      <td>30</td>\n",
       "      <td>IT</td>\n",
       "      <td>4500</td>\n",
       "      <td>4</td>\n",
       "      <td>2</td>\n",
       "      <td>3</td>\n",
       "      <td>Yes</td>\n",
       "    </tr>\n",
       "    <tr>\n",
       "      <th>3</th>\n",
       "      <td>2004</td>\n",
       "      <td>28</td>\n",
       "      <td>Finance</td>\n",
       "      <td>6000</td>\n",
       "      <td>3</td>\n",
       "      <td>4</td>\n",
       "      <td>4</td>\n",
       "      <td>No</td>\n",
       "    </tr>\n",
       "    <tr>\n",
       "      <th>4</th>\n",
       "      <td>2005</td>\n",
       "      <td>35</td>\n",
       "      <td>IT</td>\n",
       "      <td>5200</td>\n",
       "      <td>6</td>\n",
       "      <td>3</td>\n",
       "      <td>3</td>\n",
       "      <td>No</td>\n",
       "    </tr>\n",
       "    <tr>\n",
       "      <th>5</th>\n",
       "      <td>2006</td>\n",
       "      <td>45</td>\n",
       "      <td>Sales</td>\n",
       "      <td>8000</td>\n",
       "      <td>12</td>\n",
       "      <td>5</td>\n",
       "      <td>5</td>\n",
       "      <td>No</td>\n",
       "    </tr>\n",
       "    <tr>\n",
       "      <th>6</th>\n",
       "      <td>2007</td>\n",
       "      <td>29</td>\n",
       "      <td>IT</td>\n",
       "      <td>4700</td>\n",
       "      <td>3</td>\n",
       "      <td>2</td>\n",
       "      <td>4</td>\n",
       "      <td>Yes</td>\n",
       "    </tr>\n",
       "  </tbody>\n",
       "</table>\n",
       "</div>"
      ],
      "text/plain": [
       "   EmployeeID  Age Department  Monthly Salary  Years with Company  \\\n",
       "0        2001   25         IT            5000                   2   \n",
       "1        2002   40         HR            7000                  10   \n",
       "2        2003   30         IT            4500                   4   \n",
       "3        2004   28    Finance            6000                   3   \n",
       "4        2005   35         IT            5200                   6   \n",
       "5        2006   45      Sales            8000                  12   \n",
       "6        2007   29         IT            4700                   3   \n",
       "\n",
       "   Job Satisfaction  Performance Rating Attrition  \n",
       "0                 3                   4       Yes  \n",
       "1                 5                   5        No  \n",
       "2                 2                   3       Yes  \n",
       "3                 4                   4        No  \n",
       "4                 3                   3        No  \n",
       "5                 5                   5        No  \n",
       "6                 2                   4       Yes  "
      ]
     },
     "execution_count": 5,
     "metadata": {},
     "output_type": "execute_result"
    }
   ],
   "source": [
    "d"
   ]
  },
  {
   "cell_type": "code",
   "execution_count": 6,
   "id": "34cb37ee-bdd2-4009-be31-aca837bc2222",
   "metadata": {},
   "outputs": [],
   "source": [
    "missing_values = d.isnull().sum() #finding missing values"
   ]
  },
  {
   "cell_type": "code",
   "execution_count": 7,
   "id": "dc9bd08d-ef12-4e3a-878f-7f45ab1b8304",
   "metadata": {},
   "outputs": [
    {
     "data": {
      "text/plain": [
       "EmployeeID            0\n",
       "Age                   0\n",
       "Department            0\n",
       "Monthly Salary        0\n",
       "Years with Company    0\n",
       "Job Satisfaction      0\n",
       "Performance Rating    0\n",
       "Attrition             0\n",
       "dtype: int64"
      ]
     },
     "execution_count": 7,
     "metadata": {},
     "output_type": "execute_result"
    }
   ],
   "source": [
    "missing_values"
   ]
  },
  {
   "cell_type": "code",
   "execution_count": 9,
   "id": "b153ae92-b892-493e-82b3-b472234aa694",
   "metadata": {},
   "outputs": [],
   "source": [
    "duplicate_data = d[d.duplicated()] #checking duplicate data"
   ]
  },
  {
   "cell_type": "code",
   "execution_count": 12,
   "id": "f6965e8d-9235-4ecd-bcad-08df361cecdf",
   "metadata": {},
   "outputs": [],
   "source": [
    "duplicate = len(duplicate_data)"
   ]
  },
  {
   "cell_type": "code",
   "execution_count": 13,
   "id": "9e5ceb4a-35e8-493c-acc4-852b9e04d2a9",
   "metadata": {},
   "outputs": [
    {
     "data": {
      "text/plain": [
       "0"
      ]
     },
     "execution_count": 13,
     "metadata": {},
     "output_type": "execute_result"
    }
   ],
   "source": [
    "duplicate"
   ]
  },
  {
   "cell_type": "code",
   "execution_count": 26,
   "id": "a492a0d5-98ad-4870-9b90-6aecf75de64a",
   "metadata": {},
   "outputs": [],
   "source": [
    "left_employee = d[d[\"Attrition\"] == \"Yes\"]"
   ]
  },
  {
   "cell_type": "code",
   "execution_count": 27,
   "id": "66e27bb9-bdfb-48e1-ac27-3958b2dd42cb",
   "metadata": {},
   "outputs": [
    {
     "data": {
      "text/html": [
       "<div>\n",
       "<style scoped>\n",
       "    .dataframe tbody tr th:only-of-type {\n",
       "        vertical-align: middle;\n",
       "    }\n",
       "\n",
       "    .dataframe tbody tr th {\n",
       "        vertical-align: top;\n",
       "    }\n",
       "\n",
       "    .dataframe thead th {\n",
       "        text-align: right;\n",
       "    }\n",
       "</style>\n",
       "<table border=\"1\" class=\"dataframe\">\n",
       "  <thead>\n",
       "    <tr style=\"text-align: right;\">\n",
       "      <th></th>\n",
       "      <th>EmployeeID</th>\n",
       "      <th>Age</th>\n",
       "      <th>Department</th>\n",
       "      <th>Monthly Salary</th>\n",
       "      <th>Years with Company</th>\n",
       "      <th>Job Satisfaction</th>\n",
       "      <th>Performance Rating</th>\n",
       "      <th>Attrition</th>\n",
       "    </tr>\n",
       "  </thead>\n",
       "  <tbody>\n",
       "    <tr>\n",
       "      <th>0</th>\n",
       "      <td>2001</td>\n",
       "      <td>25</td>\n",
       "      <td>IT</td>\n",
       "      <td>5000</td>\n",
       "      <td>2</td>\n",
       "      <td>3</td>\n",
       "      <td>4</td>\n",
       "      <td>Yes</td>\n",
       "    </tr>\n",
       "    <tr>\n",
       "      <th>2</th>\n",
       "      <td>2003</td>\n",
       "      <td>30</td>\n",
       "      <td>IT</td>\n",
       "      <td>4500</td>\n",
       "      <td>4</td>\n",
       "      <td>2</td>\n",
       "      <td>3</td>\n",
       "      <td>Yes</td>\n",
       "    </tr>\n",
       "    <tr>\n",
       "      <th>6</th>\n",
       "      <td>2007</td>\n",
       "      <td>29</td>\n",
       "      <td>IT</td>\n",
       "      <td>4700</td>\n",
       "      <td>3</td>\n",
       "      <td>2</td>\n",
       "      <td>4</td>\n",
       "      <td>Yes</td>\n",
       "    </tr>\n",
       "  </tbody>\n",
       "</table>\n",
       "</div>"
      ],
      "text/plain": [
       "   EmployeeID  Age Department  Monthly Salary  Years with Company  \\\n",
       "0        2001   25         IT            5000                   2   \n",
       "2        2003   30         IT            4500                   4   \n",
       "6        2007   29         IT            4700                   3   \n",
       "\n",
       "   Job Satisfaction  Performance Rating Attrition  \n",
       "0                 3                   4       Yes  \n",
       "2                 2                   3       Yes  \n",
       "6                 2                   4       Yes  "
      ]
     },
     "execution_count": 27,
     "metadata": {},
     "output_type": "execute_result"
    }
   ],
   "source": [
    "left_employee"
   ]
  },
  {
   "cell_type": "code",
   "execution_count": 37,
   "id": "1b553964-ed47-4215-820f-0d266726e21d",
   "metadata": {},
   "outputs": [],
   "source": [
    "stayed_employee = d[d[\"Attrition\"] == \"No\"]"
   ]
  },
  {
   "cell_type": "code",
   "execution_count": 38,
   "id": "f17ad34a-f581-4805-a7a4-77277b3a3bc2",
   "metadata": {},
   "outputs": [
    {
     "data": {
      "text/html": [
       "<div>\n",
       "<style scoped>\n",
       "    .dataframe tbody tr th:only-of-type {\n",
       "        vertical-align: middle;\n",
       "    }\n",
       "\n",
       "    .dataframe tbody tr th {\n",
       "        vertical-align: top;\n",
       "    }\n",
       "\n",
       "    .dataframe thead th {\n",
       "        text-align: right;\n",
       "    }\n",
       "</style>\n",
       "<table border=\"1\" class=\"dataframe\">\n",
       "  <thead>\n",
       "    <tr style=\"text-align: right;\">\n",
       "      <th></th>\n",
       "      <th>EmployeeID</th>\n",
       "      <th>Age</th>\n",
       "      <th>Department</th>\n",
       "      <th>Monthly Salary</th>\n",
       "      <th>Years with Company</th>\n",
       "      <th>Job Satisfaction</th>\n",
       "      <th>Performance Rating</th>\n",
       "      <th>Attrition</th>\n",
       "    </tr>\n",
       "  </thead>\n",
       "  <tbody>\n",
       "    <tr>\n",
       "      <th>1</th>\n",
       "      <td>2002</td>\n",
       "      <td>40</td>\n",
       "      <td>HR</td>\n",
       "      <td>7000</td>\n",
       "      <td>10</td>\n",
       "      <td>5</td>\n",
       "      <td>5</td>\n",
       "      <td>No</td>\n",
       "    </tr>\n",
       "    <tr>\n",
       "      <th>3</th>\n",
       "      <td>2004</td>\n",
       "      <td>28</td>\n",
       "      <td>Finance</td>\n",
       "      <td>6000</td>\n",
       "      <td>3</td>\n",
       "      <td>4</td>\n",
       "      <td>4</td>\n",
       "      <td>No</td>\n",
       "    </tr>\n",
       "    <tr>\n",
       "      <th>4</th>\n",
       "      <td>2005</td>\n",
       "      <td>35</td>\n",
       "      <td>IT</td>\n",
       "      <td>5200</td>\n",
       "      <td>6</td>\n",
       "      <td>3</td>\n",
       "      <td>3</td>\n",
       "      <td>No</td>\n",
       "    </tr>\n",
       "    <tr>\n",
       "      <th>5</th>\n",
       "      <td>2006</td>\n",
       "      <td>45</td>\n",
       "      <td>Sales</td>\n",
       "      <td>8000</td>\n",
       "      <td>12</td>\n",
       "      <td>5</td>\n",
       "      <td>5</td>\n",
       "      <td>No</td>\n",
       "    </tr>\n",
       "  </tbody>\n",
       "</table>\n",
       "</div>"
      ],
      "text/plain": [
       "   EmployeeID  Age Department  Monthly Salary  Years with Company  \\\n",
       "1        2002   40         HR            7000                  10   \n",
       "3        2004   28    Finance            6000                   3   \n",
       "4        2005   35         IT            5200                   6   \n",
       "5        2006   45      Sales            8000                  12   \n",
       "\n",
       "   Job Satisfaction  Performance Rating Attrition  \n",
       "1                 5                   5        No  \n",
       "3                 4                   4        No  \n",
       "4                 3                   3        No  \n",
       "5                 5                   5        No  "
      ]
     },
     "execution_count": 38,
     "metadata": {},
     "output_type": "execute_result"
    }
   ],
   "source": [
    "stayed_employee"
   ]
  },
  {
   "cell_type": "code",
   "execution_count": 41,
   "id": "93041142-fb12-4d28-8c98-c367433b0558",
   "metadata": {},
   "outputs": [],
   "source": [
    "average_left = left_employee[\"Monthly Salary\"].mean()"
   ]
  },
  {
   "cell_type": "code",
   "execution_count": 42,
   "id": "537a2267-85e1-4a5e-a0f2-39a8ff1558b2",
   "metadata": {},
   "outputs": [],
   "source": [
    "average_stayed = stayed_employee[\"Monthly Salary\"].mean()"
   ]
  },
  {
   "cell_type": "code",
   "execution_count": 43,
   "id": "04be2d11-45a3-4dc3-bf83-86c0e2d79cb3",
   "metadata": {},
   "outputs": [
    {
     "data": {
      "text/plain": [
       "4733.333333333333"
      ]
     },
     "execution_count": 43,
     "metadata": {},
     "output_type": "execute_result"
    }
   ],
   "source": [
    "average_left "
   ]
  },
  {
   "cell_type": "code",
   "execution_count": 44,
   "id": "3e501fc6-e0a0-41e6-a2b9-6a5b041342ce",
   "metadata": {},
   "outputs": [
    {
     "data": {
      "text/plain": [
       "6550.0"
      ]
     },
     "execution_count": 44,
     "metadata": {},
     "output_type": "execute_result"
    }
   ],
   "source": [
    "average_stayed"
   ]
  },
  {
   "cell_type": "code",
   "execution_count": null,
   "id": "82bb561d-61a6-4284-9d0d-20d5bfa883f4",
   "metadata": {},
   "outputs": [],
   "source": [
    "#avg "
   ]
  },
  {
   "cell_type": "code",
   "execution_count": 50,
   "id": "f35775c7-f847-4ffa-9a0d-180d093d8115",
   "metadata": {},
   "outputs": [],
   "source": [
    "data = d.groupby(\"Attrition\")[\"Job Satisfaction\"].mean()"
   ]
  },
  {
   "cell_type": "code",
   "execution_count": 51,
   "id": "9bee607d-0071-46db-9ecc-137eb17fc551",
   "metadata": {},
   "outputs": [
    {
     "data": {
      "text/plain": [
       "Attrition\n",
       "No     4.250000\n",
       "Yes    2.333333\n",
       "Name: Job Satisfaction, dtype: float64"
      ]
     },
     "execution_count": 51,
     "metadata": {},
     "output_type": "execute_result"
    }
   ],
   "source": [
    "data"
   ]
  },
  {
   "cell_type": "code",
   "execution_count": 52,
   "id": "22a4ea9a-580f-44f7-91fb-f51506407283",
   "metadata": {},
   "outputs": [],
   "source": [
    "data_2 = d.groupby(\"Attrition\")[\"Performance Rating\"].mean()"
   ]
  },
  {
   "cell_type": "code",
   "execution_count": 53,
   "id": "b24b7e6d-26e9-4cd3-a9ed-fb93b05c73ae",
   "metadata": {},
   "outputs": [
    {
     "data": {
      "text/plain": [
       "Attrition\n",
       "No     4.250000\n",
       "Yes    3.666667\n",
       "Name: Performance Rating, dtype: float64"
      ]
     },
     "execution_count": 53,
     "metadata": {},
     "output_type": "execute_result"
    }
   ],
   "source": [
    "data_2"
   ]
  },
  {
   "cell_type": "code",
   "execution_count": 54,
   "id": "fda3047f-cacf-411f-a920-75b8f17a09cd",
   "metadata": {},
   "outputs": [],
   "source": [
    "import matplotlib.pyplot as plt"
   ]
  },
  {
   "cell_type": "code",
   "execution_count": 55,
   "id": "870bedd7-23d2-4a69-b927-dc491bc50b4e",
   "metadata": {},
   "outputs": [
    {
     "data": {
      "text/plain": [
       "<BarContainer object of 7 artists>"
      ]
     },
     "execution_count": 55,
     "metadata": {},
     "output_type": "execute_result"
    },
    {
     "data": {
      "image/png": "[encoded data removed]",
      "text/plain": [
       "<Figure size 640x480 with 1 Axes>"
      ]
     },
     "metadata": {},
     "output_type": "display_data"
    }
   ],
   "source": [
    "plt.bar(d[\"Attrition\"], d[\"Monthly Salary\"])"
   ]
  },
  {
   "cell_type": "code",
   "execution_count": 63,
   "id": "c235118d-4105-4a7a-839b-9ffeac855bc0",
   "metadata": {},
   "outputs": [
    {
     "data": {
      "text/plain": [
       "Job Satisfaction\n",
       "2    Yes\n",
       "3     No\n",
       "4     No\n",
       "5     No\n",
       "Name: Attrition, dtype: object"
      ]
     },
     "execution_count": 63,
     "metadata": {},
     "output_type": "execute_result"
    }
   ],
   "source": [
    "d.groupby(\"Job Satisfaction\")[\"Attrition\"].min()"
   ]
  },
  {
   "cell_type": "code",
   "execution_count": 72,
   "id": "6548cd56-2003-4240-9fa1-fef30d752628",
   "metadata": {},
   "outputs": [],
   "source": [
    "import seaborn as sns"
   ]
  },
  {
   "cell_type": "code",
   "execution_count": 81,
   "id": "d7a0fe29-e48a-4e2f-9b3c-3262fd7acce3",
   "metadata": {},
   "outputs": [
    {
     "data": {
      "text/plain": [
       "<Axes: xlabel='Attrition', ylabel='Job Satisfaction'>"
      ]
     },
     "execution_count": 81,
     "metadata": {},
     "output_type": "execute_result"
    },
    {
     "data": {
      "image/png": "[encoded data removed]",
      "text/plain": [
       "<Figure size 640x480 with 1 Axes>"
      ]
     },
     "metadata": {},
     "output_type": "display_data"
    }
   ],
   "source": [
    "sns.boxplot(x = d[\"Attrition\"],y = d[\"Job Satisfaction\"])"
   ]
  },
  {
   "cell_type": "code",
   "execution_count": 80,
   "id": "8f4ffe9c-4221-437c-8df5-fa2e8e3dafb0",
   "metadata": {},
   "outputs": [
    {
     "data": {
      "text/plain": [
       "<Axes: xlabel='Attrition', ylabel='Performance Rating'>"
      ]
     },
     "execution_count": 80,
     "metadata": {},
     "output_type": "execute_result"
    },
    {
     "data": {
      "image/png": "[encoded data removed]",
      "text/plain": [
       "<Figure size 640x480 with 1 Axes>"
      ]
     },
     "metadata": {},
     "output_type": "display_data"
    }
   ],
   "source": [
    "sns.boxplot(x = d[\"Attrition\"], y = d[\"Performance Rating\"])"
   ]
  }
 ],
 "metadata": {
  "kernelspec": {
   "display_name": "Python 3 (ipykernel)",
   "language": "python",
   "name": "python3"
  },
  "language_info": {
   "codemirror_mode": {
    "name": "ipython",
    "version": 3
   },
   "file_extension": ".py",
   "mimetype": "text/x-python",
   "name": "python",
   "nbconvert_exporter": "python",
   "pygments_lexer": "ipython3",
   "version": "3.12.7"
  }
 },
 "nbformat": 4,
 "nbformat_minor": 5
}
